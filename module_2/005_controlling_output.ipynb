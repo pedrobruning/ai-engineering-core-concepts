{
 "cells": [
  {
   "cell_type": "code",
   "execution_count": 2,
   "id": "195e63ce",
   "metadata": {},
   "outputs": [],
   "source": [
    "from dotenv import load_dotenv\n",
    "from anthropic import Anthropic\n",
    "\n",
    "load_dotenv()\n",
    "\n",
    "client = Anthropic()\n",
    "model = \"claude-sonnet-4-0\""
   ]
  },
  {
   "cell_type": "code",
   "execution_count": 5,
   "id": "4c5815a5",
   "metadata": {},
   "outputs": [],
   "source": [
    "# Helper functions to manage messages\n",
    "\n",
    "def add_user_message(messages, text):\n",
    "    user_message = {\"role\": \"user\", \"content\": text}\n",
    "    messages.append(user_message)\n",
    "\n",
    "def add_assistant_message(messages, text):\n",
    "    assistant_message = {\"role\": \"assistant\", \"content\": text}\n",
    "    messages.append(assistant_message)\n",
    "\n",
    "def chat(messages, system=None, temperature=1.0, stop_sequences=[]):\n",
    "    params = {\n",
    "        \"model\": model,\n",
    "        \"max_tokens\": 1024,\n",
    "        \"messages\": messages,\n",
    "        \"temperature\": temperature,\n",
    "        \"stop_sequences\": stop_sequences\n",
    "    }\n",
    "\n",
    "    if system:\n",
    "        params[\"system\"] = system\n",
    "\n",
    "    response = client.messages.create(**params)\n",
    "    return response.content[0].text"
   ]
  },
  {
   "cell_type": "code",
   "execution_count": null,
   "id": "70c6869c",
   "metadata": {},
   "outputs": [
    {
     "name": "stdout",
     "output_type": "stream",
     "text": [
      " it gives a larger caffeine hit to wake you up in the morning. If you're looking for health benefits, both coffee and tea offer antioxidants, though green tea has particularly high levels. Some considerations:\n",
      "\n",
      "**Coffee might be better if you:**\n",
      "- Need a stronger caffeine boost to wake up\n",
      "- Enjoy the ritual of brewing/espresso drinks\n",
      "- Want something that pairs well with typical breakfast foods\n",
      "\n",
      "**Tea might be better if you:**\n",
      "- Prefer a gentler caffeine lift\n",
      "- Are sensitive to caffeine\n",
      "- Want more hydration with less acidity\n",
      "- Enjoy lighter, more varied flavors\n",
      "\n",
      "Ultimately, it comes down to your personal taste preferences, caffeine tolerance, and how each makes you feel. Both can be part of a healthy breakfast routine!\n",
      "\n",
      "What matters most to you in your morning drink?\n"
     ]
    }
   ],
   "source": [
    "# Making empty messages list\n",
    "messages = []\n",
    "\n",
    "# Add initial user message\n",
    "user_message = \"\"\"\n",
    "Is tea or coffee better at breakfest?\n",
    "\"\"\"\n",
    "add_user_message(messages, user_message)\n",
    "\n",
    "# Here we are adding an initial respose to bias the LLM's response\n",
    "add_assistant_message(messages, \"Coffee is better because\")\n",
    "# Chat\n",
    "answer = chat(messages)\n",
    "\n",
    "print(answer)"
   ]
  },
  {
   "cell_type": "code",
   "execution_count": 6,
   "id": "719d5e11",
   "metadata": {},
   "outputs": [
    {
     "data": {
      "text/plain": [
       "'1, 2, 3, 4, 5, 6, 7, 8, 9, 10'"
      ]
     },
     "execution_count": 6,
     "metadata": {},
     "output_type": "execute_result"
    }
   ],
   "source": [
    "messages = []\n",
    "\n",
    "add_user_message(messages, \"Count from 1 to 10\")\n",
    "\n",
    "answer = chat(messages)\n",
    "\n",
    "answer"
   ]
  },
  {
   "cell_type": "code",
   "execution_count": null,
   "id": "340624a1",
   "metadata": {},
   "outputs": [
    {
     "data": {
      "text/plain": [
       "'1, 2, 3, 4, '"
      ]
     },
     "execution_count": 9,
     "metadata": {},
     "output_type": "execute_result"
    }
   ],
   "source": [
    "# Testing with stop sequences\n",
    "\n",
    "answer = chat(messages, stop_sequences=[\"5\"])\n",
    "answer"
   ]
  }
 ],
 "metadata": {
  "kernelspec": {
   "display_name": "ai-studies",
   "language": "python",
   "name": "python3"
  },
  "language_info": {
   "codemirror_mode": {
    "name": "ipython",
    "version": 3
   },
   "file_extension": ".py",
   "mimetype": "text/x-python",
   "name": "python",
   "nbconvert_exporter": "python",
   "pygments_lexer": "ipython3",
   "version": "3.13.5"
  }
 },
 "nbformat": 4,
 "nbformat_minor": 5
}

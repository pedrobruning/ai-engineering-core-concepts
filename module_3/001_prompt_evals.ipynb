{
 "cells": [
  {
   "cell_type": "code",
   "execution_count": 16,
   "id": "5437be1e",
   "metadata": {},
   "outputs": [],
   "source": [
    "# Load env variables and create client\n",
    "from dotenv import load_dotenv\n",
    "from anthropic import Anthropic\n",
    "\n",
    "load_dotenv()\n",
    "\n",
    "client = Anthropic()\n",
    "model = \"claude-3-5-haiku-latest\""
   ]
  },
  {
   "cell_type": "code",
   "execution_count": 17,
   "id": "3b0d8e9c",
   "metadata": {},
   "outputs": [],
   "source": [
    "# Helper functions\n",
    "def add_user_message(messages, text):\n",
    "    user_message = {\"role\": \"user\", \"content\": text}\n",
    "    messages.append(user_message)\n",
    "\n",
    "\n",
    "def add_assistant_message(messages, text):\n",
    "    assistant_message = {\"role\": \"assistant\", \"content\": text}\n",
    "    messages.append(assistant_message)\n",
    "\n",
    "\n",
    "def chat(messages, system=None, temperature=1.0, stop_sequences=[]):\n",
    "    params = {\n",
    "        \"model\": model,\n",
    "        \"max_tokens\": 1000,\n",
    "        \"messages\": messages,\n",
    "        \"temperature\": temperature,\n",
    "        \"stop_sequences\": stop_sequences,\n",
    "    }\n",
    "\n",
    "    if system:\n",
    "        params[\"system\"] = system\n",
    "\n",
    "    message = client.messages.create(**params)\n",
    "    return message.content[0].text"
   ]
  },
  {
   "cell_type": "code",
   "execution_count": 18,
   "id": "1e788701",
   "metadata": {},
   "outputs": [],
   "source": [
    "import json\n",
    "\n",
    "\n",
    "def generate_dataset():\n",
    "    prompt = \"\"\"\n",
    "Generate a evaluation dataset for a prompt evaluation. The dataset will be used to evaluate prompts\n",
    "that generate Python, JSON, or Regex specifically for AWS-related tasks. Generate an array of JSON objects,\n",
    "each representing task that requires Python, JSON, or a Regex to complete.\n",
    "\n",
    "Example output:\n",
    "```json\n",
    "[\n",
    "    {\n",
    "        \"task\": \"Description of task\",\n",
    "    },\n",
    "    ...additional\n",
    "]\n",
    "```\n",
    "\n",
    "* Focus on tasks that can be solved by writing a single Python function, a single JSON object, or a regular expression.\n",
    "* Focus on tasks that do not require writing much code\n",
    "\n",
    "Please generate 3 objects.\n",
    "\"\"\"\n",
    "\n",
    "    messages = []\n",
    "    add_user_message(messages, prompt)\n",
    "    add_assistant_message(messages, \"```json\")\n",
    "\n",
    "    answer = chat(messages, stop_sequences=[\"```\"])\n",
    "    return json.loads(answer)"
   ]
  },
  {
   "cell_type": "code",
   "execution_count": 19,
   "id": "75596f6a",
   "metadata": {},
   "outputs": [],
   "source": [
    "# Generate a dataset and store it on a json file\n",
    "dataset = generate_dataset()\n",
    "\n",
    "with open(\"dataset.json\", \"w\") as f:\n",
    "    json.dump(dataset, f, indent=2)\n"
   ]
  },
  {
   "cell_type": "code",
   "execution_count": 20,
   "id": "9b329b86",
   "metadata": {},
   "outputs": [],
   "source": [
    "def run_prompt(test_case):\n",
    "    \"\"\"Merges the prompt and test case input, then returns the result\"\"\"\n",
    "    prompt = f\"\"\"\n",
    "    Please solve the following task:\n",
    "\n",
    "    {test_case[\"task\"]}\n",
    "    \"\"\"\n",
    "\n",
    "    messages = []\n",
    "\n",
    "    add_user_message(messages, prompt)\n",
    "\n",
    "    output = chat(messages)\n",
    "    return output"
   ]
  },
  {
   "cell_type": "code",
   "execution_count": 21,
   "id": "0628733b",
   "metadata": {},
   "outputs": [],
   "source": [
    "def grade_by_model(test_case, output):\n",
    "    eval_prompt = f\"\"\"\n",
    "    You are an expert AWS code reviewer. Your task is to evaluate the following AI-generated solution.\n",
    "\n",
    "    Original Task:\n",
    "    <task>\n",
    "    {test_case[\"task\"]}\n",
    "    </task>\n",
    "\n",
    "    Solution to Evaluate:\n",
    "    <solution>\n",
    "    {output}\n",
    "    </solution>\n",
    "\n",
    "    Output Format\n",
    "    Provide your evaluation as a structured JSON object with the following fields, in this specific order:\n",
    "    - \"strengths\": An array of 1-3 key strengths\n",
    "    - \"weaknesses\": An array of 1-3 key areas for improvement\n",
    "    - \"reasoning\": A concise explanation of your overall assessment\n",
    "    - \"score\": A number between 1-10\n",
    "\n",
    "    Respond with JSON. Keep your response concise and direct.\n",
    "    Example response shape:\n",
    "    {{\n",
    "        \"strengths\": string[],\n",
    "        \"weaknesses\": string[],\n",
    "        \"reasoning\": string,\n",
    "        \"score\": number\n",
    "    }}\n",
    "    \"\"\"\n",
    "\n",
    "    messages = []\n",
    "\n",
    "    add_user_message(messages, eval_prompt)\n",
    "\n",
    "    add_assistant_message(messages, \"```json\")\n",
    "\n",
    "    eval_text = chat(messages, stop_sequences=[\"```\"])\n",
    "\n",
    "    return json.loads(eval_text)"
   ]
  },
  {
   "cell_type": "code",
   "execution_count": 22,
   "id": "e250dd97",
   "metadata": {},
   "outputs": [],
   "source": [
    "def run_test_case(test_case):\n",
    "    \"\"\"Calls run_prompt, then grades the result\"\"\"\n",
    "    output = run_prompt(test_case)\n",
    "\n",
    "    # TODO: Grading \n",
    "    model_grade = grade_by_model(test_case, output)\n",
    "    score = model_grade[\"score\"]\n",
    "    reasoning = model_grade[\"reasoning\"]\n",
    "\n",
    "    return {\n",
    "        \"output\": output,\n",
    "        \"test_case\": test_case,\n",
    "        \"score\": score,\n",
    "        \"reasoning\": reasoning\n",
    "    }"
   ]
  },
  {
   "cell_type": "code",
   "execution_count": 27,
   "id": "17a8d0ba",
   "metadata": {},
   "outputs": [],
   "source": [
    "from statistics import mean\n",
    "\n",
    "def run_eval(dataset):\n",
    "    \"\"\"Loads the dataset and calls run_test_case with each case\"\"\"\n",
    "    results = []\n",
    "\n",
    "    for test_case in dataset:\n",
    "        result = run_test_case(test_case)\n",
    "        results.append(result)\n",
    "\n",
    "    average_score = mean([result[\"score\"] for result in results])\n",
    "    print(average_score)    \n",
    "\n",
    "    return results"
   ]
  },
  {
   "cell_type": "code",
   "execution_count": 28,
   "id": "20a5639f",
   "metadata": {},
   "outputs": [
    {
     "name": "stdout",
     "output_type": "stream",
     "text": [
      "8\n"
     ]
    }
   ],
   "source": [
    "# Run eval pipeline\n",
    "\n",
    "with open(\"dataset.json\", \"r\") as f:\n",
    "    dataset = json.load(f)\n",
    "\n",
    "results = run_eval(dataset)"
   ]
  },
  {
   "cell_type": "code",
   "execution_count": 29,
   "id": "4f2e7dca",
   "metadata": {},
   "outputs": [
    {
     "name": "stdout",
     "output_type": "stream",
     "text": [
      "[\n",
      "  {\n",
      "    \"output\": \"Here's a Python function to extract the AWS region from an EC2 instance ARN:\\n\\n```python\\ndef extract_region_from_arn(arn):\\n    \\\"\\\"\\\"\\n    Extract the AWS region from an EC2 instance ARN.\\n    \\n    Args:\\n        arn (str): The full ARN of an EC2 instance\\n    \\n    Returns:\\n        str: The AWS region extracted from the ARN\\n        None: If the ARN is invalid or does not contain a region\\n    \\\"\\\"\\\"\\n    # Check if the ARN is valid and starts with the expected prefix\\n    if not arn or not arn.startswith('arn:aws:ec2:'):\\n        return None\\n    \\n    # Split the ARN into parts\\n    arn_parts = arn.split(':')\\n    \\n    # Check if the ARN has enough parts\\n    if len(arn_parts) < 4:\\n        return None\\n    \\n    # The region is the 4th part of the ARN\\n    region = arn_parts[3]\\n    \\n    return region\\n\\n# Example usage\\ndef main():\\n    # Test cases\\n    arns = [\\n        'arn:aws:ec2:us-west-2:123456789012:instance/i-1234567890abcdef0',\\n        'arn:aws:ec2:eu-central-1:987654321098:instance/i-0987654321fedcba0',\\n        'invalid-arn',\\n        ''\\n    ]\\n    \\n    for arn in arns:\\n        region = extract_region_from_arn(arn)\\n        print(f\\\"ARN: {arn}\\\")\\n        print(f\\\"Region: {region}\\\")\\n        print()\\n\\nif __name__ == '__main__':\\n    main()\\n```\\n\\nThis solution provides a robust way to extract the AWS region from an EC2 instance ARN. Let's break down the key components:\\n\\n1. Function `extract_region_from_arn(arn)`:\\n   - Takes an ARN as input\\n   - Validates the ARN structure\\n   - Extracts the region from the ARN\\n\\n2. Validation checks:\\n   - Ensures the ARN is not empty\\n   - Checks if the ARN starts with the expected prefix `arn:aws:ec2:`\\n   - Verifies the ARN has enough parts\\n\\n3. Region extraction:\\n   - Splits the ARN by ':'\\n   - Returns the 4th part as the region\\n\\n4. Example usage demonstrates different scenarios:\\n   - Valid ARNs with different regions\\n   - Invalid ARNs\\n\\nExample output:\\n```\\nARN: arn:aws:ec2:us-west-2:123456789012:instance/i-1234567890abcdef0\\nRegion: us-west-2\\n\\nARN: arn:aws:ec2:eu-central-1:987654321098:instance/i-0987654321fedcba0\\nRegion: eu-central-1\\n\\nARN: invalid-arn\\nRegion: None\\n\\nARN: \\nRegion: None\\n```\\n\\nAlternative implementation using regular expressions:\\n\\n```python\\nimport re\\n\\ndef extract_region_from_arn_regex(arn):\\n    \\\"\\\"\\\"\\n    Extract the AWS region from an EC2 instance ARN using regex.\\n    \\n    Args:\\n        arn (str): The full ARN of an EC2 instance\\n    \\n    Returns:\\n        str: The AWS region extracted from the ARN\\n        None: If the ARN is invalid or does not contain a region\\n    \\\"\\\"\\\"\\n    pattern = r'^arn:aws:ec2:([a-z0-9-]+):'\\n    match = re.match(pattern, arn)\\n    \\n    return match.group(1) if match else None\\n```\\n\\nThe regex version is more concise but might be slightly less readable.\\n\\nConsiderations and best practices:\\n1. Handle edge cases like empty or invalid ARNs\\n2. Validate the region format (e.g., matching known AWS region patterns)\\n3. Consider adding more specific error handling or logging\\n4. Use type hints and docstrings for better code documentation\\n\\nYou can further enhance the function by:\\n- Adding region validation against a list of known AWS regions\\n- Implementing more comprehensive error handling\\n- Supporting ARNs from other\",\n",
      "    \"test_case\": {\n",
      "      \"task\": \"Create a Python function to extract the AWS region from an EC2 instance ARN\"\n",
      "    },\n",
      "    \"score\": 8,\n",
      "    \"reasoning\": \"The solution demonstrates a solid understanding of ARN parsing with robust input validation. It handles various edge cases effectively and provides multiple implementation strategies. While fundamentally sound, there are opportunities to enhance type safety and region validation.\"\n",
      "  },\n",
      "  {\n",
      "    \"output\": \"Here's a comprehensive JSON schema to validate the structure of an AWS Lambda function configuration:\\n\\n```json\\n{\\n    \\\"$schema\\\": \\\"http://json-schema.org/draft-07/schema#\\\",\\n    \\\"type\\\": \\\"object\\\",\\n    \\\"properties\\\": {\\n        \\\"FunctionName\\\": {\\n            \\\"type\\\": \\\"string\\\",\\n            \\\"minLength\\\": 1,\\n            \\\"maxLength\\\": 140,\\n            \\\"pattern\\\": \\\"^[a-zA-Z0-9-_]+$\\\"\\n        },\\n        \\\"Runtime\\\": {\\n            \\\"type\\\": \\\"string\\\",\\n            \\\"enum\\\": [\\n                \\\"nodejs14.x\\\",\\n                \\\"nodejs16.x\\\", \\n                \\\"nodejs18.x\\\",\\n                \\\"python3.7\\\",\\n                \\\"python3.8\\\", \\n                \\\"python3.9\\\",\\n                \\\"java11\\\",\\n                \\\"java17\\\",\\n                \\\"go1.x\\\",\\n                \\\"dotnet6\\\",\\n                \\\"ruby2.7\\\"\\n            ]\\n        },\\n        \\\"Role\\\": {\\n            \\\"type\\\": \\\"string\\\",\\n            \\\"pattern\\\": \\\"^arn:aws:iam::\\\\\\\\d{12}:role/.+$\\\"\\n        },\\n        \\\"Handler\\\": {\\n            \\\"type\\\": \\\"string\\\",\\n            \\\"minLength\\\": 1\\n        },\\n        \\\"Code\\\": {\\n            \\\"type\\\": \\\"object\\\",\\n            \\\"oneOf\\\": [\\n                {\\n                    \\\"properties\\\": {\\n                        \\\"S3Bucket\\\": {\\\"type\\\": \\\"string\\\"},\\n                        \\\"S3Key\\\": {\\\"type\\\": \\\"string\\\"}\\n                    },\\n                    \\\"required\\\": [\\\"S3Bucket\\\", \\\"S3Key\\\"]\\n                },\\n                {\\n                    \\\"properties\\\": {\\n                        \\\"ZipFile\\\": {\\\"type\\\": \\\"string\\\"}\\n                    },\\n                    \\\"required\\\": [\\\"ZipFile\\\"]\\n                }\\n            ]\\n        },\\n        \\\"Description\\\": {\\n            \\\"type\\\": \\\"string\\\",\\n            \\\"maxLength\\\": 256\\n        },\\n        \\\"Timeout\\\": {\\n            \\\"type\\\": \\\"number\\\",\\n            \\\"minimum\\\": 1,\\n            \\\"maximum\\\": 900\\n        },\\n        \\\"MemorySize\\\": {\\n            \\\"type\\\": \\\"number\\\",\\n            \\\"minimum\\\": 128,\\n            \\\"maximum\\\": 10240,\\n            \\\"multipleOf\\\": 64\\n        },\\n        \\\"Environment\\\": {\\n            \\\"type\\\": \\\"object\\\",\\n            \\\"properties\\\": {\\n                \\\"Variables\\\": {\\n                    \\\"type\\\": \\\"object\\\",\\n                    \\\"additionalProperties\\\": {\\n                        \\\"type\\\": \\\"string\\\"\\n                    }\\n                }\\n            }\\n        },\\n        \\\"VpcConfig\\\": {\\n            \\\"type\\\": \\\"object\\\",\\n            \\\"properties\\\": {\\n                \\\"SubnetIds\\\": {\\n                    \\\"type\\\": \\\"array\\\",\\n                    \\\"items\\\": {\\n                        \\\"type\\\": \\\"string\\\",\\n                        \\\"pattern\\\": \\\"^subnet-[a-z0-9]+$\\\"\\n                    },\\n                    \\\"minItems\\\": 1,\\n                    \\\"maxItems\\\": 16\\n                },\\n                \\\"SecurityGroupIds\\\": {\\n                    \\\"type\\\": \\\"array\\\",\\n                    \\\"items\\\": {\\n                        \\\"type\\\": \\\"string\\\",\\n                        \\\"pattern\\\": \\\"^sg-[a-z0-9]+$\\\"\\n                    },\\n                    \\\"minItems\\\": 1,\\n                    \\\"maxItems\\\": 5\\n                }\\n            },\\n            \\\"required\\\": [\\\"SubnetIds\\\", \\\"SecurityGroupIds\\\"]\\n        },\\n        \\\"Layers\\\": {\\n            \\\"type\\\": \\\"array\\\",\\n            \\\"items\\\": {\\n                \\\"type\\\": \\\"string\\\",\\n                \\\"pattern\\\": \\\"^arn:aws:lambda:[a-z0-9-]+:\\\\\\\\d{12}:layer:[a-zA-Z0-9-_]+:\\\\\\\\d+$\\\"\\n            },\\n            \\\"maxItems\\\": 5\\n        },\\n        \\\"Tags\\\": {\\n            \\\"type\\\": \\\"object\\\",\\n            \\\"additionalProperties\\\": {\\n                \\\"type\\\": \\\"string\\\"\\n            },\\n            \\\"maxProperties\\\": 50\\n        }\\n    },\\n    \\\"required\\\": [\\\"FunctionName\\\", \\\"Runtime\\\", \\\"Role\\\", \\\"Handler\\\", \\\"Code\\\"]\\n}\\n```\\n\\nThis JSON schema provides comprehensive validation for an AWS Lambda function configuration with the following key features:\\n\\n1. Validates required fields:\\n   - FunctionName\\n   - Runtime\\n   - Role\",\n",
      "    \"test_case\": {\n",
      "      \"task\": \"Write a JSON schema to validate the structure of an AWS Lambda function configuration\"\n",
      "    },\n",
      "    \"score\": 8,\n",
      "    \"reasoning\": \"The schema provides robust validation for core Lambda function attributes with careful constraints on naming, runtimes, and configuration limits. It covers most standard configuration scenarios while allowing flexibility in environment variables and code sources. However, it lacks extensibility for emerging Lambda features and could benefit from more dynamic runtime support.\"\n",
      "  },\n",
      "  {\n",
      "    \"output\": \"Here's a solution to create a regular expression that matches valid AWS S3 bucket names:\\n\\n```python\\nimport re\\n\\ndef is_valid_s3_bucket_name(bucket_name):\\n    # Regular expression pattern for valid S3 bucket names\\n    pattern = r'^(?!.*--)(?!.*\\\\.\\\\.)(?!-)[a-z0-9-]{3,63}(?<!-)$'\\n    \\n    return re.match(pattern, bucket_name) is not None\\n\\n# Test cases\\ntest_cases = [\\n    \\\"my-bucket-123\\\",        # Valid\\n    \\\"mybucket\\\",             # Valid\\n    \\\"my-bucket\\\",            # Valid\\n    \\\"123-bucket\\\",           # Valid\\n    \\\"a\\\" * 63,               # Valid (63 characters)\\n    \\n    \\\"My-Bucket\\\",            # Invalid (uppercase letters)\\n    \\\"-mybucket\\\",            # Invalid (starts with hyphen)\\n    \\\"mybucket-\\\",            # Invalid (ends with hyphen)\\n    \\\"my--bucket\\\",           # Invalid (consecutive hyphens)\\n    \\\"a\\\" * 64,               # Invalid (too long)\\n    \\\"ab\\\"                    # Invalid (too short)\\n]\\n\\n# Validate and print results\\nfor bucket in test_cases:\\n    print(f\\\"{bucket}: {is_valid_s3_bucket_name(bucket)}\\\")\\n```\\n\\nLet's break down the regular expression:\\n\\n- `^`: Start of the string\\n- `(?!.*--)`: Negative lookahead to prevent consecutive hyphens\\n- `(?!.*\\\\.\\\\.)`: Negative lookahead to prevent consecutive dots (though not strictly necessary here)\\n- `(?!-)`: Negative lookahead to prevent starting with a hyphen\\n- `[a-z0-9-]`: Allowed characters (lowercase letters, numbers, hyphens)\\n- `{3,63}`: Length between 3 and 63 characters\\n- `(?<!-)`: Negative lookbehind to prevent ending with a hyphen\\n- `$`: End of the string\\n\\nThe function will return `True` for valid S3 bucket names and `False` for invalid ones.\\n\\nThis regex ensures that:\\n- Only lowercase letters, numbers, and hyphens are allowed\\n- Name length is between 3 and 63 characters\\n- Cannot start or end with a hyphen\\n- Cannot have consecutive hyphens\\n\\nWhen you run this code, it will validate the test cases and print whether each bucket name is valid according to AWS S3 naming rules.\",\n",
      "    \"test_case\": {\n",
      "      \"task\": \"Develop a regular expression to match valid AWS S3 bucket names (lowercase alphanumeric and hyphens, 3-63 characters)\"\n",
      "    },\n",
      "    \"score\": 8,\n",
      "    \"reasoning\": \"The solution provides a robust implementation for matching AWS S3 bucket name conventions with a well-structured regular expression. It effectively handles key constraints like character set, length, and hyphen placement. The comprehensive test suite adds confidence in the implementation's correctness.\"\n",
      "  }\n",
      "]\n"
     ]
    }
   ],
   "source": [
    "print(json.dumps(results, indent=2))"
   ]
  },
  {
   "cell_type": "code",
   "execution_count": null,
   "id": "2828b6d8",
   "metadata": {},
   "outputs": [],
   "source": []
  }
 ],
 "metadata": {
  "kernelspec": {
   "display_name": "ai-studies",
   "language": "python",
   "name": "python3"
  },
  "language_info": {
   "codemirror_mode": {
    "name": "ipython",
    "version": 3
   },
   "file_extension": ".py",
   "mimetype": "text/x-python",
   "name": "python",
   "nbconvert_exporter": "python",
   "pygments_lexer": "ipython3",
   "version": "3.13.5"
  }
 },
 "nbformat": 4,
 "nbformat_minor": 5
}

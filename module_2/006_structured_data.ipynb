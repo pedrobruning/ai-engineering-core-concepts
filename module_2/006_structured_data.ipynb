{
 "cells": [
  {
   "cell_type": "code",
   "execution_count": 1,
   "id": "195e63ce",
   "metadata": {},
   "outputs": [],
   "source": [
    "from dotenv import load_dotenv\n",
    "from anthropic import Anthropic\n",
    "\n",
    "load_dotenv()\n",
    "\n",
    "client = Anthropic()\n",
    "model = \"claude-sonnet-4-0\""
   ]
  },
  {
   "cell_type": "code",
   "execution_count": 2,
   "id": "4c5815a5",
   "metadata": {},
   "outputs": [],
   "source": [
    "# Helper functions to manage messages\n",
    "\n",
    "def add_user_message(messages, text):\n",
    "    user_message = {\"role\": \"user\", \"content\": text}\n",
    "    messages.append(user_message)\n",
    "\n",
    "def add_assistant_message(messages, text):\n",
    "    assistant_message = {\"role\": \"assistant\", \"content\": text}\n",
    "    messages.append(assistant_message)\n",
    "\n",
    "def chat(messages, system=None, temperature=1.0, stop_sequences=[]):\n",
    "    params = {\n",
    "        \"model\": model,\n",
    "        \"max_tokens\": 1024,\n",
    "        \"messages\": messages,\n",
    "        \"temperature\": temperature,\n",
    "        \"stop_sequences\": stop_sequences\n",
    "    }\n",
    "\n",
    "    if system:\n",
    "        params[\"system\"] = system\n",
    "\n",
    "    response = client.messages.create(**params)\n",
    "    return response.content[0].text"
   ]
  },
  {
   "cell_type": "code",
   "execution_count": 4,
   "id": "70c6869c",
   "metadata": {},
   "outputs": [
    {
     "name": "stdout",
     "output_type": "stream",
     "text": [
      "\n",
      "{\n",
      "  \"Name\": \"OrderProcessingRule\",\n",
      "  \"EventPattern\": {\n",
      "    \"source\": [\"myapp.orders\"],\n",
      "    \"detail-type\": [\"Order Placed\"]\n",
      "  },\n",
      "  \"State\": \"ENABLED\",\n",
      "  \"Targets\": [\n",
      "    {\n",
      "      \"Id\": \"1\",\n",
      "      \"Arn\": \"arn:aws:lambda:us-east-1:123456789012:function:ProcessOrder\"\n",
      "    }\n",
      "  ]\n",
      "}\n",
      "\n"
     ]
    }
   ],
   "source": [
    "# Making empty messages list\n",
    "messages = []\n",
    "\n",
    "# Add initial user message\n",
    "user_message = \"\"\"\n",
    "Generate a very short event bridge rule as json\n",
    "\"\"\"\n",
    "add_user_message(messages, user_message)\n",
    "\n",
    "# Prefill assistant message to start the generation \n",
    "add_assistant_message(messages, \"```json\")\n",
    "\n",
    "# Chat stopping the sequence when encountering the end of the markdown\n",
    "answer = chat(messages, stop_sequences=[\"```\"])\n",
    "\n",
    "print(answer)"
   ]
  }
 ],
 "metadata": {
  "kernelspec": {
   "display_name": "ai-studies",
   "language": "python",
   "name": "python3"
  },
  "language_info": {
   "codemirror_mode": {
    "name": "ipython",
    "version": 3
   },
   "file_extension": ".py",
   "mimetype": "text/x-python",
   "name": "python",
   "nbconvert_exporter": "python",
   "pygments_lexer": "ipython3",
   "version": "3.13.5"
  }
 },
 "nbformat": 4,
 "nbformat_minor": 5
}

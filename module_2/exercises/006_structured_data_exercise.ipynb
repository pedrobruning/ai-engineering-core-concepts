{
 "cells": [
  {
   "cell_type": "markdown",
   "id": "18bd323f",
   "metadata": {},
   "source": [
    "## Structured Data\n",
    "\n",
    "- Use message prefilling and stop sequences only to get three different commands in a single response\n",
    "- There shouldn't be any comments or explanation\n",
    "- **Hint:** Message prefilling isn't limited to just characters like ```"
   ]
  },
  {
   "cell_type": "code",
   "execution_count": 1,
   "id": "195e63ce",
   "metadata": {},
   "outputs": [],
   "source": [
    "from dotenv import load_dotenv\n",
    "from anthropic import Anthropic\n",
    "\n",
    "load_dotenv()\n",
    "\n",
    "client = Anthropic()\n",
    "model = \"claude-sonnet-4-0\""
   ]
  },
  {
   "cell_type": "code",
   "execution_count": 2,
   "id": "4c5815a5",
   "metadata": {},
   "outputs": [],
   "source": [
    "# Helper functions to manage messages\n",
    "\n",
    "def add_user_message(messages, text):\n",
    "    user_message = {\"role\": \"user\", \"content\": text}\n",
    "    messages.append(user_message)\n",
    "\n",
    "def add_assistant_message(messages, text):\n",
    "    assistant_message = {\"role\": \"assistant\", \"content\": text}\n",
    "    messages.append(assistant_message)\n",
    "\n",
    "def chat(messages, system=None, temperature=1.0, stop_sequences=[]):\n",
    "    params = {\n",
    "        \"model\": model,\n",
    "        \"max_tokens\": 1024,\n",
    "        \"messages\": messages,\n",
    "        \"temperature\": temperature,\n",
    "        \"stop_sequences\": stop_sequences\n",
    "    }\n",
    "\n",
    "    if system:\n",
    "        params[\"system\"] = system\n",
    "\n",
    "    response = client.messages.create(**params)\n",
    "    return response.content[0].text"
   ]
  },
  {
   "cell_type": "code",
   "execution_count": null,
   "id": "70c6869c",
   "metadata": {},
   "outputs": [
    {
     "name": "stdout",
     "output_type": "stream",
     "text": [
      "Here are three short AWS CLI commands:\n",
      "\n",
      "1. **List S3 buckets:**\n",
      "   ```bash\n",
      "   aws s3 ls\n",
      "   ```\n",
      "\n",
      "2. **Describe EC2 instances:**\n",
      "   ```bash\n",
      "   aws ec2 describe-instances\n",
      "   ```\n",
      "\n",
      "3. **Get caller identity:**\n",
      "   ```bash\n",
      "   aws sts get-caller-identity\n",
      "   ```\n"
     ]
    }
   ],
   "source": [
    "# Making empty messages list\n",
    "messages = []\n",
    "\n",
    "# Add initial user message\n",
    "user_message = \"\"\"\n",
    "Generate three different sample AWS CLI commands. Each should be very short.\n",
    "\"\"\"\n",
    "add_user_message(messages, user_message)\n",
    "\n",
    "answer = chat(messages)\n",
    "\n",
    "print(answer)"
   ]
  },
  {
   "cell_type": "code",
   "execution_count": 25,
   "id": "0eb83868",
   "metadata": {},
   "outputs": [
    {
     "name": "stdout",
     "output_type": "stream",
     "text": [
      "aws s3 ls\n",
      "\n",
      "aws ec2 describe-instances\n",
      "\n",
      "aws iam list-users\n"
     ]
    }
   ],
   "source": [
    "# Making empty messages list\n",
    "messages = []\n",
    "\n",
    "# Add initial user message\n",
    "user_message = \"\"\"\n",
    "Generate three different sample AWS CLI commands. Each should be very short.\n",
    "\"\"\"\n",
    "add_user_message(messages, user_message)\n",
    "\n",
    "# Prefill with some output\n",
    "add_assistant_message(messages, \"Okay, here are the three AWS CLI commands in one single Markdown without any comments:\\n ```bash\")\n",
    "\n",
    "answer = chat(messages, stop_sequences=[\"```\"])\n",
    "\n",
    "print(answer.strip())"
   ]
  }
 ],
 "metadata": {
  "kernelspec": {
   "display_name": "ai-studies",
   "language": "python",
   "name": "python3"
  },
  "language_info": {
   "codemirror_mode": {
    "name": "ipython",
    "version": 3
   },
   "file_extension": ".py",
   "mimetype": "text/x-python",
   "name": "python",
   "nbconvert_exporter": "python",
   "pygments_lexer": "ipython3",
   "version": "3.13.5"
  }
 },
 "nbformat": 4,
 "nbformat_minor": 5
}

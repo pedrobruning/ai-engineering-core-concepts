{
 "cells": [
  {
   "cell_type": "code",
   "execution_count": 2,
   "id": "195e63ce",
   "metadata": {},
   "outputs": [],
   "source": [
    "from dotenv import load_dotenv\n",
    "from anthropic import Anthropic\n",
    "\n",
    "load_dotenv()\n",
    "\n",
    "client = Anthropic()\n",
    "model = \"claude-sonnet-4-0\""
   ]
  },
  {
   "cell_type": "code",
   "execution_count": 7,
   "id": "4c5815a5",
   "metadata": {},
   "outputs": [],
   "source": [
    "# Helper functions to manage messages\n",
    "\n",
    "def add_user_message(messages, text):\n",
    "    user_message = {\"role\": \"user\", \"content\": text}\n",
    "    messages.append(user_message)\n",
    "\n",
    "def add_assistant_message(messages, text):\n",
    "    assistant_message = {\"role\": \"assistant\", \"content\": text}\n",
    "    messages.append(assistant_message)\n",
    "\n",
    "def chat(messages, system=None):\n",
    "    params = {\n",
    "        \"model\": model,\n",
    "        \"max_tokens\": 1024,\n",
    "        \"messages\": messages\n",
    "    }\n",
    "\n",
    "    if system:\n",
    "        params[\"system\"] = system\n",
    "\n",
    "    response = client.messages.create(**params)\n",
    "    return response.content[0].text"
   ]
  },
  {
   "cell_type": "markdown",
   "id": "b21e2748",
   "metadata": {},
   "source": [
    "## Without System Prompt"
   ]
  },
  {
   "cell_type": "code",
   "execution_count": 8,
   "id": "70c6869c",
   "metadata": {},
   "outputs": [],
   "source": [
    "# Making empty messages list\n",
    "messages = []\n",
    "\n",
    "# Add initial user message\n",
    "user_message = \"\"\"\n",
    "What is the reason of the following chargeback? \n",
    "----\n",
    "Description: \"Unauthorized transaction\"\n",
    "Amount: $50.00\n",
    "Date: 2023-10-01\n",
    "Merchant: \"Online Store XYZ\"\n",
    "Please provide a detailed explanation of the chargeback reason and any relevant information that may help in understanding the situation.\n",
    "\n",
    "I was not aware of this transaction and did not authorize it. I would like to dispute this charge and request a refund.\n",
    "\"\"\"\n",
    "add_user_message(messages, user_message)\n",
    "\n",
    "# Chat\n",
    "answer = chat(messages)"
   ]
  },
  {
   "cell_type": "code",
   "execution_count": 9,
   "id": "7d55e32e",
   "metadata": {},
   "outputs": [
    {
     "data": {
      "text/plain": [
       "'Based on the information provided, this chargeback falls under **Reason Code 4837 (Visa) or 4855 (Mastercard) - \"No Cardholder Authorization\"** or similar unauthorized transaction categories.\\n\\n## Detailed Explanation:\\n\\n**Primary Reason:** You\\'re claiming this is a fraudulent/unauthorized transaction because you did not make or authorize this $50.00 purchase from \"Online Store XYZ\" on October 1, 2023.\\n\\n## Key Factors to Consider:\\n\\n### Possible Scenarios:\\n1. **Fraudulent Use:** Someone else used your card information without permission\\n2. **Family/Household Member:** Someone with access to your card made the purchase\\n3. **Recurring Subscription:** An automatic renewal you may have forgotten about\\n4. **Merchant Error:** The merchant processed a duplicate or incorrect charge\\n5. **Identity Confusion:** Similar merchant name to one you actually used\\n\\n### Important Steps:\\n\\n**Immediate Actions:**\\n- Contact your bank/card issuer to report the unauthorized transaction\\n- Request a new card if fraud is suspected\\n- Review your recent statements for other suspicious activity\\n- Change any online account passwords if compromise is suspected\\n\\n**Documentation Needed:**\\n- Transaction details and statements\\n- Any communication attempts with the merchant\\n- Proof that you didn\\'t receive goods/services\\n- Evidence showing you were not in possession of the card during transaction time\\n\\n### Timeline:\\n- You typically have 60 days from the statement date to dispute unauthorized charges\\n- The investigation process usually takes 30-90 days\\n- Provisional credit is often provided during investigation\\n\\n**Recommendation:** File the dispute immediately with your card issuer while also attempting to contact \"Online Store XYZ\" directly to resolve the matter, as this may be faster than the formal chargeback process.'"
      ]
     },
     "execution_count": 9,
     "metadata": {},
     "output_type": "execute_result"
    }
   ],
   "source": [
    "answer"
   ]
  },
  {
   "cell_type": "markdown",
   "id": "41660ec9",
   "metadata": {},
   "source": [
    "## With System Prompt"
   ]
  },
  {
   "cell_type": "code",
   "execution_count": null,
   "id": "1542265a",
   "metadata": {},
   "outputs": [],
   "source": [
    "# Making empty messages list\n",
    "messages = []\n",
    "\n",
    "# System Prompt\n",
    "system = \"\"\"\"\n",
    "You are a financial expert specializing in chargebacks and refunds. Your task is to analyze the provided transaction details and explain the reason for the chargeback in a clear and concise manner.\n",
    "Your response should include:\n",
    "1. A detailed explanation of the chargeback reason.\n",
    "2. Any relevant information that may help in understanding the situation.\n",
    "3. A professional tone suitable for a financial dispute.\n",
    "\n",
    "Avoid using jargon or overly technical language, as the user may not be familiar with financial terms.\n",
    "You should help the merchant create an evidence to defend against the chargeback, if applicable.\n",
    "\"\"\"\n",
    "\n",
    "# Add initial user message\n",
    "user_message = \"\"\"\n",
    "What is the reason of the following chargeback? \n",
    "----\n",
    "Description: \"Unauthorized transaction\"\n",
    "Amount: $50.00\n",
    "Date: 2023-10-01\n",
    "Merchant: \"Online Store XYZ\"\n",
    "Please provide a detailed explanation of the chargeback reason and any relevant information that may help in understanding the situation.\n",
    "\n",
    "I was not aware of this transaction and did not authorize it. I would like to dispute this charge and request a refund.\n",
    "\"\"\"\n",
    "add_user_message(messages, user_message)\n",
    "\n",
    "# Chat\n",
    "answer = chat(messages, system)"
   ]
  }
 ],
 "metadata": {
  "kernelspec": {
   "display_name": "ai-studies (3.13.5)",
   "language": "python",
   "name": "python3"
  },
  "language_info": {
   "codemirror_mode": {
    "name": "ipython",
    "version": 3
   },
   "file_extension": ".py",
   "mimetype": "text/x-python",
   "name": "python",
   "nbconvert_exporter": "python",
   "pygments_lexer": "ipython3",
   "version": "3.13.5"
  }
 },
 "nbformat": 4,
 "nbformat_minor": 5
}

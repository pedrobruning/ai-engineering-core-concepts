{
 "cells": [
  {
   "cell_type": "code",
   "execution_count": 1,
   "id": "195e63ce",
   "metadata": {},
   "outputs": [
    {
     "data": {
      "text/plain": [
       "True"
      ]
     },
     "execution_count": 1,
     "metadata": {},
     "output_type": "execute_result"
    }
   ],
   "source": [
    "from dotenv import load_dotenv\n",
    "\n",
    "load_dotenv()"
   ]
  },
  {
   "cell_type": "code",
   "execution_count": 3,
   "id": "8d2424bd",
   "metadata": {},
   "outputs": [],
   "source": [
    "# Create API Client\n",
    "from anthropic import Anthropic\n",
    "\n",
    "client = Anthropic()\n",
    "model = \"claude-sonnet-4-0\""
   ]
  },
  {
   "cell_type": "code",
   "execution_count": 4,
   "id": "4c5815a5",
   "metadata": {},
   "outputs": [],
   "source": [
    "# Request\n",
    "messages = client.messages.create(\n",
    "    model=model,\n",
    "    max_tokens=1024,\n",
    "    messages=[\n",
    "        {\n",
    "            \"role\": \"user\",\n",
    "            \"content\": \"What is Chargeback? Answer in one sentence.\",\n",
    "        }\n",
    "    ],\n",
    ")"
   ]
  },
  {
   "cell_type": "code",
   "execution_count": 6,
   "id": "70c6869c",
   "metadata": {},
   "outputs": [
    {
     "data": {
      "text/plain": [
       "\"A chargeback is a reversal of a credit or debit card transaction that occurs when a cardholder disputes a charge with their bank, resulting in the funds being returned to the customer and deducted from the merchant's account.\""
      ]
     },
     "execution_count": 6,
     "metadata": {},
     "output_type": "execute_result"
    }
   ],
   "source": [
    "messages.content[0].text "
   ]
  }
 ],
 "metadata": {
  "kernelspec": {
   "display_name": "ai-studies (3.13.5)",
   "language": "python",
   "name": "python3"
  },
  "language_info": {
   "codemirror_mode": {
    "name": "ipython",
    "version": 3
   },
   "file_extension": ".py",
   "mimetype": "text/x-python",
   "name": "python",
   "nbconvert_exporter": "python",
   "pygments_lexer": "ipython3",
   "version": "3.13.5"
  }
 },
 "nbformat": 4,
 "nbformat_minor": 5
}

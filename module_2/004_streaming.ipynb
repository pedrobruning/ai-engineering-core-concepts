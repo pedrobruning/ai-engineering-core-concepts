{
 "cells": [
  {
   "cell_type": "code",
   "execution_count": 2,
   "id": "195e63ce",
   "metadata": {},
   "outputs": [],
   "source": [
    "from dotenv import load_dotenv\n",
    "from anthropic import Anthropic\n",
    "\n",
    "load_dotenv()\n",
    "\n",
    "client = Anthropic()\n",
    "model = \"claude-sonnet-4-0\""
   ]
  },
  {
   "cell_type": "code",
   "execution_count": 3,
   "id": "4c5815a5",
   "metadata": {},
   "outputs": [],
   "source": [
    "# Helper functions to manage messages\n",
    "\n",
    "def add_user_message(messages, text):\n",
    "    user_message = {\"role\": \"user\", \"content\": text}\n",
    "    messages.append(user_message)\n",
    "\n",
    "def add_assistant_message(messages, text):\n",
    "    assistant_message = {\"role\": \"assistant\", \"content\": text}\n",
    "    messages.append(assistant_message)"
   ]
  },
  {
   "cell_type": "code",
   "execution_count": 4,
   "id": "70c6869c",
   "metadata": {},
   "outputs": [
    {
     "name": "stdout",
     "output_type": "stream",
     "text": [
      "RawMessageStartEvent(message=Message(id='msg_01WPV7RcwXsMGVHPPGzkYgNT', content=[], model='claude-sonnet-4-20250514', role='assistant', stop_reason=None, stop_sequence=None, type='message', usage=Usage(cache_creation_input_tokens=0, cache_read_input_tokens=0, input_tokens=22, output_tokens=13, server_tool_use=None, service_tier='standard')), type='message_start')\n",
      "RawContentBlockStartEvent(content_block=TextBlock(citations=None, text='', type='text'), index=0, type='content_block_start')\n",
      "RawContentBlockDeltaEvent(delta=TextDelta(text='Teamfight Tactics (TFT) is an', type='text_delta'), index=0, type='content_block_delta')\n",
      "RawContentBlockDeltaEvent(delta=TextDelta(text=' auto-battler game mode in League of Legends where players draft', type='text_delta'), index=0, type='content_block_delta')\n",
      "RawContentBlockDeltaEvent(delta=TextDelta(text=' and position teams of champions that fight automatically against other', type='text_delta'), index=0, type='content_block_delta')\n",
      "RawContentBlockDeltaEvent(delta=TextDelta(text=\" players' teams in rounds, with the goal of being\", type='text_delta'), index=0, type='content_block_delta')\n",
      "RawContentBlockDeltaEvent(delta=TextDelta(text=' the last player standing.', type='text_delta'), index=0, type='content_block_delta')\n",
      "RawContentBlockStopEvent(index=0, type='content_block_stop')\n",
      "RawMessageDeltaEvent(delta=Delta(stop_reason='end_turn', stop_sequence=None), type='message_delta', usage=MessageDeltaUsage(cache_creation_input_tokens=None, cache_read_input_tokens=None, input_tokens=None, output_tokens=56, server_tool_use=None))\n",
      "RawMessageStopEvent(type='message_stop')\n"
     ]
    }
   ],
   "source": [
    "# Making empty messages list\n",
    "messages = []\n",
    "\n",
    "# Add initial user message\n",
    "add_user_message(messages, \"Write a 1 sentence description of TFT from LOL.\")\n",
    "\n",
    "# Call the create with stream mode\n",
    "stream = client.messages.create(\n",
    "    model=model,\n",
    "    max_tokens=1000,\n",
    "    messages=messages,\n",
    "    stream=True\n",
    ")\n",
    "\n",
    "for event in stream:\n",
    "    print(event)"
   ]
  },
  {
   "cell_type": "code",
   "execution_count": 6,
   "id": "37a7d339",
   "metadata": {},
   "outputs": [
    {
     "name": "stdout",
     "output_type": "stream",
     "text": [
      "Teamfight Tactics (TFT) is an auto-battler game mode in League of Legends where players draft champions, arrange them on a board, and watch them automatically fight against other players' teams in strategic turn-based rounds."
     ]
    },
    {
     "data": {
      "text/plain": [
       "Message(id='msg_013MtJ9kQotZ6idHVwV9z4X6', content=[TextBlock(citations=None, text=\"Teamfight Tactics (TFT) is an auto-battler game mode in League of Legends where players draft champions, arrange them on a board, and watch them automatically fight against other players' teams in strategic turn-based rounds.\", type='text')], model='claude-sonnet-4-20250514', role='assistant', stop_reason='end_turn', stop_sequence=None, type='message', usage=Usage(cache_creation_input_tokens=0, cache_read_input_tokens=0, input_tokens=22, output_tokens=55, server_tool_use=None, service_tier='standard'))"
      ]
     },
     "execution_count": 6,
     "metadata": {},
     "output_type": "execute_result"
    }
   ],
   "source": [
    "messages = []\n",
    "\n",
    "add_user_message(messages, \"Write a 1 sentence description of TFT from LOL.\")\n",
    "\n",
    "with client.messages.stream(\n",
    "    model=model,\n",
    "    max_tokens=1000,\n",
    "    messages=messages\n",
    ") as stream:\n",
    "    for text in stream.text_stream:\n",
    "        print(text, end=\"\")\n",
    "        pass\n",
    "\n",
    "stream.get_final_message()"
   ]
  }
 ],
 "metadata": {
  "kernelspec": {
   "display_name": "ai-studies",
   "language": "python",
   "name": "python3"
  },
  "language_info": {
   "codemirror_mode": {
    "name": "ipython",
    "version": 3
   },
   "file_extension": ".py",
   "mimetype": "text/x-python",
   "name": "python",
   "nbconvert_exporter": "python",
   "pygments_lexer": "ipython3",
   "version": "3.13.5"
  }
 },
 "nbformat": 4,
 "nbformat_minor": 5
}

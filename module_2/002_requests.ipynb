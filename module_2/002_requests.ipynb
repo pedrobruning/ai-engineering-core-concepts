{
 "cells": [
  {
   "cell_type": "code",
   "execution_count": 2,
   "id": "195e63ce",
   "metadata": {},
   "outputs": [],
   "source": [
    "from dotenv import load_dotenv\n",
    "from anthropic import Anthropic\n",
    "\n",
    "load_dotenv()\n",
    "\n",
    "client = Anthropic()\n",
    "model = \"claude-sonnet-4-0\""
   ]
  },
  {
   "cell_type": "code",
   "execution_count": 3,
   "id": "4c5815a5",
   "metadata": {},
   "outputs": [],
   "source": [
    "# Helper functions to manage messages\n",
    "\n",
    "def add_user_message(messages, text):\n",
    "    user_message = {\"role\": \"user\", \"content\": text}\n",
    "    messages.append(user_message)\n",
    "\n",
    "def add_assistant_message(messages, text):\n",
    "    assistant_message = {\"role\": \"assistant\", \"content\": text}\n",
    "    messages.append(assistant_message)\n",
    "\n",
    "def chat(messages):\n",
    "    response = client.messages.create(\n",
    "        model=model,\n",
    "        max_tokens=1024,\n",
    "        messages=messages\n",
    "    )\n",
    "    return response.content[0].text"
   ]
  },
  {
   "cell_type": "code",
   "execution_count": 6,
   "id": "70c6869c",
   "metadata": {},
   "outputs": [],
   "source": [
    "# Making empty messages list\n",
    "messages = []\n",
    "\n",
    "# Add initial user message\n",
    "add_user_message(messages, \"Define chargeback in one sentence.\")\n",
    "\n",
    "# Chat\n",
    "answer = chat(messages)\n",
    "add_assistant_message(messages, answer)\n",
    "\n",
    "# Follow-up question\n",
    "add_user_message(messages, \"What is the difference between a chargeback and a refund?\")\n",
    "answer = chat(messages)\n",
    "add_assistant_message(messages, answer)"
   ]
  },
  {
   "cell_type": "code",
   "execution_count": 7,
   "id": "7d55e32e",
   "metadata": {},
   "outputs": [
    {
     "data": {
      "text/plain": [
       "[{'role': 'user', 'content': 'Define chargeback in one sentence.'},\n",
       " {'role': 'assistant',\n",
       "  'content': \"A chargeback is a reversal of a credit card transaction initiated by the cardholder's bank, typically due to fraud, billing disputes, or merchant issues, which forces the merchant to refund the purchase amount.\"},\n",
       " {'role': 'user',\n",
       "  'content': 'What is the difference between a chargeback and a refund?'},\n",
       " {'role': 'assistant',\n",
       "  'content': \"The key differences between a chargeback and a refund are:\\n\\n**Who initiates it:**\\n- **Refund**: Initiated by the merchant, often at the customer's request\\n- **Chargeback**: Initiated by the customer through their bank/card issuer\\n\\n**Process:**\\n- **Refund**: Direct transaction between merchant and customer\\n- **Chargeback**: Involves the bank reversing the charge and investigating the dispute\\n\\n**Cost to merchant:**\\n- **Refund**: Only the refunded amount\\n- **Chargeback**: Refunded amount plus additional fees (typically $15-100) and potential penalties\\n\\n**Control:**\\n- **Refund**: Merchant has control over whether to approve it\\n- **Chargeback**: Merchant must respond and prove the transaction was valid, but the bank makes the final decision\\n\\n**Timeline:**\\n- **Refund**: Usually processed quickly (days)\\n- **Chargeback**: Can take weeks or months to resolve\\n\\nIn essence, a refund is a voluntary return of money by the merchant, while a chargeback is a forced reversal by the banking system.\"}]"
      ]
     },
     "execution_count": 7,
     "metadata": {},
     "output_type": "execute_result"
    }
   ],
   "source": [
    "messages"
   ]
  },
  {
   "cell_type": "code",
   "execution_count": null,
   "id": "1542265a",
   "metadata": {},
   "outputs": [],
   "source": []
  }
 ],
 "metadata": {
  "kernelspec": {
   "display_name": "ai-studies (3.13.5)",
   "language": "python",
   "name": "python3"
  },
  "language_info": {
   "codemirror_mode": {
    "name": "ipython",
    "version": 3
   },
   "file_extension": ".py",
   "mimetype": "text/x-python",
   "name": "python",
   "nbconvert_exporter": "python",
   "pygments_lexer": "ipython3",
   "version": "3.13.5"
  }
 },
 "nbformat": 4,
 "nbformat_minor": 5
}
